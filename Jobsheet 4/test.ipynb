{
 "cells": [
  {
   "cell_type": "markdown",
   "metadata": {},
   "source": [
    "| Kode                                       | Penjelasan                                                                                   |\n",
    "|--------------------------------------------|----------------------------------------------------------------------------------------------|\n",
    "| `var gifts = { 'first': 'partridge', 'second': 'turtledoves', 'fifth': 1 };` | Membuat sebuah variabel `gifts` yang merupakan sebuah Map (pasangan key-value) dengan tiga entri. Setiap entri memiliki key (kunci) dan value (nilai). Keys adalah 'first', 'second', dan 'fifth', sedangkan values adalah 'partridge', 'turtledoves', dan 1. Perlu diperhatikan bahwa key 'fifth' memiliki value dalam bentuk angka. |\n",
    "| `var nobleGases = { 2: 'helium', 10: 'neon', 18: 2, };` | Membuat variabel `nobleGases` yang juga merupakan sebuah Map dengan tiga entri. Kunci-kunci adalah angka (2, 10, 18) dan nilainya adalah 'helium', 'neon', dan 2. Perhatikan bahwa nilai pada key 18 adalah angka. |\n",
    "| `print(gifts);`                            | Mencetak isi Map `gifts` ke konsol.                                                          |\n",
    "| `print(nobleGases);`                       | Mencetak isi Map `nobleGases` ke konsol.                                                     |\n"
   ]
  }
 ],
 "metadata": {
  "language_info": {
   "name": "python"
  },
  "orig_nbformat": 4
 },
 "nbformat": 4,
 "nbformat_minor": 2
}
