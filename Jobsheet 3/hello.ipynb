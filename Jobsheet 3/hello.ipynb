{
 "cells": [
  {
   "cell_type": "markdown",
   "metadata": {},
   "source": [
    "| Baris Kode                                     | Penjelasan                                                                                     |\n",
    "|-----------------------------------------------|------------------------------------------------------------------------------------------------|\n",
    "| `for (int i = 1; i <= 10; i++) {`              | Loop pertama: Iterasi dari 1 hingga 10 (inklusif) menggunakan variabel `i`.                    |\n",
    "| `for (int j = 1; j <= i; j++) {`              | Loop kedua: Iterasi dari 1 hingga nilai `i` saat ini menggunakan variabel `j`.                 |\n",
    "| `stdout.write('*');`                          | Mencetak satu bintang (*) ke layar tanpa garis baru.                                          |\n",
    "| `print('');`                                  | Mencetak baris kosong baru setelah loop bintang pada baris saat ini selesai.                   |\n",
    "\n"
   ]
  },
  {
   "cell_type": "markdown",
   "metadata": {},
   "source": [
    "| Baris Kode                                     | Penjelasan                                                                                     |\n",
    "|-----------------------------------------------|------------------------------------------------------------------------------------------------|\n",
    "| `int i = 10;`                                  | Mendeklarasikan variabel `i` dengan nilai awal 10. `i` akan digunakan sebagai penghitung utama dalam loop. |\n",
    "| `while (i >= 1) {`                             | Memulai loop `while` yang akan dijalankan selama `i` lebih besar dari atau sama dengan 1.      |\n",
    "| `int j = 1;`                                   | Mendeklarasikan variabel `j` dengan nilai awal 1. `j` akan digunakan sebagai penghitung dalam loop bersarang. |\n",
    "| `while (j <= i) {`                             | Memulai loop `while` bersarang yang akan dijalankan selama `j` kurang dari atau sama dengan `i`. |\n",
    "| `stdout.write('*');`                          | Mencetak satu bintang (*) ke layar tanpa garis baru.                                          |\n",
    "| `j++;`                                        | Meningkatkan nilai `j` untuk mencetak lebih banyak bintang pada baris saat ini.              |\n",
    "| `print('');`                                  | Mencetak baris kosong baru setelah loop bintang pada baris saat ini selesai.                   |\n",
    "| `i--;`                                        | Mengurangi nilai `i` untuk beralih ke baris berikutnya.                                        |\n",
    "\n"
   ]
  },
  {
   "cell_type": "markdown",
   "metadata": {},
   "source": [
    "| Baris Kode                                     | Penjelasan                                                                                     |\n",
    "|-----------------------------------------------|------------------------------------------------------------------------------------------------|\n",
    "| `stdout.write('Masukkan bilangan 1: ');`       | Menampilkan teks \"Masukkan bilangan 1: \" ke layar.                                            |\n",
    "| `int num1 = int.parse(stdin.readLineSync()!);` | Membaca input bilangan pertama dari pengguna dan mengonversinya ke tipe data `int`.           |\n",
    "| `stdout.write('Masukkan bilangan 2: ');`       | Menampilkan teks \"Masukkan bilangan 2: \" ke layar.                                            |\n",
    "| `int num2 = int.parse(stdin.readLineSync()!);` | Membaca input bilangan kedua dari pengguna dan mengonversinya ke tipe data `int`.             |\n",
    "| `stdout.write('Masukkan operator (+, -, *, /): ');` | Menampilkan teks \"Masukkan operator (+, -, *, /): \" ke layar.                             |\n",
    "| `String operator = stdin.readLineSync()!;`     | Membaca input operator dari pengguna sebagai string.                                          |\n",
    "| `int hasil;`                                   | Mendeklarasikan variabel `hasil` dengan tipe data `int` untuk menyimpan hasil operasi.         |\n",
    "| `switch (operator) {`                          | Memulai struktur kontrol `switch` berdasarkan nilai `operator`.                                 |\n",
    "| `case '+':`                                    | Jika `operator` adalah '+', melakukan penambahan `num1` dan `num2`.                           |\n",
    "| `case '-':`                                    | Jika `operator` adalah '-', melakukan pengurangan `num1` dan `num2`.                           |\n",
    "| `case '*':`                                    | Jika `operator` adalah '*', melakukan perkalian `num1` dan `num2`.                            |\n",
    "| `case '/':`                                    | Jika `operator` adalah '/', melakukan pembagian bulat `num1` dan `num2`.                      |\n",
    "| `if (num2 != 0) { hasil = num1 ~/ num2; }`     | Memeriksa apakah `num2` tidak sama dengan 0 sebelum melakukan pembagian bulat.                 |\n",
    "| `else { print('Pembagian dengan nol tidak dapat dilakukan.'); return; }` | Menampilkan pesan kesalahan jika `num2` adalah 0. |\n",
    "| `default:`                                    | Bagian default yang dijalankan jika `operator` tidak cocok dengan kasus yang ada.               |\n",
    "| `print('Operator tidak valid.'); return;`       | Menampilkan pesan kesalahan jika `operator` tidak valid dan menghentikan program.                |\n",
    "| `print('Hasilnya dari $num1 $operator $num2 adalah $hasil');` | Menampilkan hasil operasi ke layar.                |\n"
   ]
  },
  {
   "cell_type": "markdown",
   "metadata": {},
   "source": [
    "**Penjelasan Kode Program**\n",
    "\n",
    "| Baris Kode                                     | Penjelasan                                                                                     |\n",
    "|-----------------------------------------------|------------------------------------------------------------------------------------------------|\n",
    "| `stdout.write(\"Masukkan alas: \");`             | Menampilkan teks \"Masukkan alas: \" ke layar tanpa garis baru. Ini adalah permintaan kepada pengguna untuk memasukkan nilai alas segitiga. |\n",
    "| `int alas = int.tryParse(stdin.readLineSync() ?? \"\") ?? 0;` | Membaca input dari pengguna dan mencoba mengonversinya menjadi tipe data integer (`int`). Jika input tidak valid, nilainya akan menjadi 0. |\n",
    "| `for (int i = 1; i <= alas; i += 2) {`         | Loop `for` yang digunakan untuk mencetak pola segitiga. Loop ini akan dijalankan dari 1 hingga nilai `alas`, dengan `i` bertambah sebanyak 2 pada setiap iterasi. Ini bertujuan agar jumlah bintang pada setiap baris selalu ganjil untuk membentuk segitiga terpusat. |\n",
    "| `int space = (alas - i) ~/ 2;`                | Menghitung jumlah spasi sebelum dan setelah bintang dalam setiap baris. Jumlah spasi sebelum bintang dihitung sebagai setengah dari selisih antara `alas` dan `i`. Ini digunakan untuk membuat segitiga terpusat. |\n",
    "| `print((\" \" * space) + (\"*\" * i) + (\" \" * space));` | Mencetak satu baris dari pola segitiga. Ini terdiri dari tiga bagian: spasi sebelum bintang, bintang, dan spasi setelah bintang. |\n"
   ]
  }
 ],
 "metadata": {
  "language_info": {
   "name": "python"
  },
  "orig_nbformat": 4
 },
 "nbformat": 4,
 "nbformat_minor": 2
}
